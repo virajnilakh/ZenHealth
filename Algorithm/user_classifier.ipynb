{
 "cells": [
  {
   "cell_type": "code",
   "execution_count": 80,
   "metadata": {
    "collapsed": true
   },
   "outputs": [],
   "source": [
    "#Import Library\n",
    "from time import time\n",
    "import matplotlib.pyplot as plt\n",
    "\n",
    "from sklearn.naive_bayes import GaussianNB\n",
    "from sklearn import svm\n",
    "from sklearn.linear_model import LogisticRegression\n",
    "from sklearn.neighbors.nearest_centroid import NearestCentroid\n",
    "from sklearn.neighbors import KNeighborsClassifier\n",
    "from sklearn.ensemble import RandomForestClassifier, VotingClassifier\n",
    "\n",
    "import pandas as pd\n",
    "import numpy as np\n",
    "import scipy as sp\n",
    "\n",
    "from sklearn.metrics import accuracy_score\n",
    "from sklearn.metrics import mean_squared_error\n",
    "from sklearn.model_selection import train_test_split\n",
    "from sklearn import preprocessing"
   ]
  },
  {
   "cell_type": "code",
   "execution_count": 81,
   "metadata": {},
   "outputs": [
    {
     "data": {
      "text/html": [
       "<div>\n",
       "<style>\n",
       "    .dataframe thead tr:only-child th {\n",
       "        text-align: right;\n",
       "    }\n",
       "\n",
       "    .dataframe thead th {\n",
       "        text-align: left;\n",
       "    }\n",
       "\n",
       "    .dataframe tbody tr th {\n",
       "        vertical-align: top;\n",
       "    }\n",
       "</style>\n",
       "<table border=\"1\" class=\"dataframe\">\n",
       "  <thead>\n",
       "    <tr style=\"text-align: right;\">\n",
       "      <th></th>\n",
       "      <th>id</th>\n",
       "      <th>user</th>\n",
       "      <th>bloodglucoselevel</th>\n",
       "      <th>bmi</th>\n",
       "      <th>gender</th>\n",
       "      <th>sugarcomsumed</th>\n",
       "      <th>label</th>\n",
       "    </tr>\n",
       "  </thead>\n",
       "  <tbody>\n",
       "    <tr>\n",
       "      <th>0</th>\n",
       "      <td>1</td>\n",
       "      <td>user1</td>\n",
       "      <td>126</td>\n",
       "      <td>29.0</td>\n",
       "      <td>male</td>\n",
       "      <td>8.0</td>\n",
       "      <td>1</td>\n",
       "    </tr>\n",
       "    <tr>\n",
       "      <th>1</th>\n",
       "      <td>2</td>\n",
       "      <td>user2</td>\n",
       "      <td>127</td>\n",
       "      <td>30.0</td>\n",
       "      <td>female</td>\n",
       "      <td>8.5</td>\n",
       "      <td>1</td>\n",
       "    </tr>\n",
       "    <tr>\n",
       "      <th>2</th>\n",
       "      <td>3</td>\n",
       "      <td>user3</td>\n",
       "      <td>130</td>\n",
       "      <td>31.0</td>\n",
       "      <td>male</td>\n",
       "      <td>9.0</td>\n",
       "      <td>1</td>\n",
       "    </tr>\n",
       "    <tr>\n",
       "      <th>3</th>\n",
       "      <td>4</td>\n",
       "      <td>user4</td>\n",
       "      <td>140</td>\n",
       "      <td>32.0</td>\n",
       "      <td>female</td>\n",
       "      <td>9.5</td>\n",
       "      <td>1</td>\n",
       "    </tr>\n",
       "    <tr>\n",
       "      <th>4</th>\n",
       "      <td>5</td>\n",
       "      <td>user5</td>\n",
       "      <td>160</td>\n",
       "      <td>33.0</td>\n",
       "      <td>male</td>\n",
       "      <td>10.0</td>\n",
       "      <td>1</td>\n",
       "    </tr>\n",
       "  </tbody>\n",
       "</table>\n",
       "</div>"
      ],
      "text/plain": [
       "   id   user  bloodglucoselevel   bmi  gender  sugarcomsumed  label\n",
       "0   1  user1                126  29.0    male            8.0      1\n",
       "1   2  user2                127  30.0  female            8.5      1\n",
       "2   3  user3                130  31.0    male            9.0      1\n",
       "3   4  user4                140  32.0  female            9.5      1\n",
       "4   5  user5                160  33.0    male           10.0      1"
      ]
     },
     "execution_count": 81,
     "metadata": {},
     "output_type": "execute_result"
    }
   ],
   "source": [
    "data = pd.read_csv('ZenHealthAppEngine/dataset/user_classifier.csv')\n",
    "Y = data['label']\n",
    "data.head()\n"
   ]
  },
  {
   "cell_type": "code",
   "execution_count": 82,
   "metadata": {},
   "outputs": [
    {
     "name": "stdout",
     "output_type": "stream",
     "text": [
      "[1 0 1 0 1 0 1 0 1 0 1 0 1 0 1 0 1 0 1 0 1 0 1 0 1 0 1 0 1 0 1 0 1 0 1 0 1\n",
      " 0 1 0 1 0 1 0 1 0 1 0 1 0 1 0 1 0 1 0 1 0 1 0 1 0 1 0 1 0 1 0 1 0 1 0 1 0\n",
      " 1 1 0 1 0 1 1 0 1 0 1 1 0 1 0 1 1 0 1 0 1 1 0 1 0 1]\n"
     ]
    },
    {
     "data": {
      "text/html": [
       "<div>\n",
       "<style>\n",
       "    .dataframe thead tr:only-child th {\n",
       "        text-align: right;\n",
       "    }\n",
       "\n",
       "    .dataframe thead th {\n",
       "        text-align: left;\n",
       "    }\n",
       "\n",
       "    .dataframe tbody tr th {\n",
       "        vertical-align: top;\n",
       "    }\n",
       "</style>\n",
       "<table border=\"1\" class=\"dataframe\">\n",
       "  <thead>\n",
       "    <tr style=\"text-align: right;\">\n",
       "      <th></th>\n",
       "      <th>gender</th>\n",
       "      <th>bloodglucoselevel</th>\n",
       "      <th>bmi</th>\n",
       "      <th>sugarcomsumed</th>\n",
       "      <th>label</th>\n",
       "    </tr>\n",
       "  </thead>\n",
       "  <tbody>\n",
       "    <tr>\n",
       "      <th>0</th>\n",
       "      <td>1</td>\n",
       "      <td>126</td>\n",
       "      <td>29.0</td>\n",
       "      <td>8.0</td>\n",
       "      <td>1</td>\n",
       "    </tr>\n",
       "    <tr>\n",
       "      <th>1</th>\n",
       "      <td>0</td>\n",
       "      <td>127</td>\n",
       "      <td>30.0</td>\n",
       "      <td>8.5</td>\n",
       "      <td>1</td>\n",
       "    </tr>\n",
       "    <tr>\n",
       "      <th>2</th>\n",
       "      <td>1</td>\n",
       "      <td>130</td>\n",
       "      <td>31.0</td>\n",
       "      <td>9.0</td>\n",
       "      <td>1</td>\n",
       "    </tr>\n",
       "  </tbody>\n",
       "</table>\n",
       "</div>"
      ],
      "text/plain": [
       "   gender  bloodglucoselevel   bmi  sugarcomsumed  label\n",
       "0       1                126  29.0            8.0      1\n",
       "1       0                127  30.0            8.5      1\n",
       "2       1                130  31.0            9.0      1"
      ]
     },
     "execution_count": 82,
     "metadata": {},
     "output_type": "execute_result"
    }
   ],
   "source": [
    "#preprocessing\n",
    "X = pd.DataFrame()\n",
    "\n",
    "X_dec = data['gender']\n",
    "X_dec_user = data['user']\n",
    "\n",
    "le = preprocessing.LabelEncoder()\n",
    "X_enc = le.fit_transform(data['gender'])\n",
    "print(X_enc)\n",
    "X['gender'] = X_enc\n",
    "X['bloodglucoselevel'] = data['bloodglucoselevel']\n",
    "X['bmi'] = data['bmi']\n",
    "X['sugarcomsumed'] = data['sugarcomsumed']\n",
    "X['label'] = data['label']\n",
    "#X['user'] = X_enc_user\n",
    "\n",
    "X.head(3)"
   ]
  },
  {
   "cell_type": "code",
   "execution_count": 83,
   "metadata": {},
   "outputs": [
    {
     "name": "stdout",
     "output_type": "stream",
     "text": [
      "(100, 5)\n",
      "(100,)\n",
      "X_train total length: 70\n",
      "X_test total length: 30\n",
      "Y_train total length: 70\n"
     ]
    }
   ],
   "source": [
    "print(X.shape)\n",
    "print(Y.shape)\n",
    "\n",
    "X_train, X_test, y_train, y_test = train_test_split(X, Y, test_size=0.30, random_state=99)\n",
    "\n",
    "print(\"X_train total length:\",len(X_train))\n",
    "print(\"X_test total length:\",len(X_test))\n",
    "print(\"Y_train total length:\",len(y_train))"
   ]
  },
  {
   "cell_type": "code",
   "execution_count": 84,
   "metadata": {
    "collapsed": true
   },
   "outputs": [],
   "source": [
    "model_nb = GaussianNB()\n",
    "model_svm = svm.SVC()\n",
    "model_lr = LogisticRegression()\n",
    "model_knn_centroid = NearestCentroid()\n",
    "model_knn = KNeighborsClassifier()\n",
    "eclf = VotingClassifier(estimators=[('lr', model_lr), ('knn_centroid', model_knn_centroid), ('gnb', model_nb), ('svc', model_svm), ('knn', model_knn)],\n",
    "voting='hard', weights=[1,1,1,1,1])\n",
    "\n",
    "models = [ model_nb, model_svm, model_lr, model_knn_centroid, model_knn, eclf]\n",
    "model_names = [ \"Naive Bayes\", \"SVM\", \"Logistic Regression\", \"Nearest Neighbors using Centroid\", \"K-nearest Neighbors\", \"Ensemble\"]\n",
    "    \n",
    "best_model = None\n",
    "best_accuracy = 0\n",
    "best_preds = None"
   ]
  },
  {
   "cell_type": "code",
   "execution_count": 85,
   "metadata": {},
   "outputs": [
    {
     "name": "stdout",
     "output_type": "stream",
     "text": [
      "Performance of models\n",
      "======================\n",
      "Name: Naive Bayes\n",
      "Accuracy score:  1.0\n",
      "RMSE:  0.0\n",
      "Name: SVM\n",
      "Accuracy score:  0.833333333333\n",
      "RMSE:  0.266666666667\n",
      "Name: Logistic Regression\n",
      "Accuracy score:  0.9\n",
      "RMSE:  0.1\n",
      "Name: Nearest Neighbors using Centroid\n",
      "Accuracy score:  1.0\n",
      "RMSE:  0.0\n",
      "Name: K-nearest Neighbors\n",
      "Accuracy score:  1.0\n",
      "RMSE:  0.0\n",
      "Name: Ensemble\n",
      "Accuracy score:  1.0\n",
      "RMSE:  0.0\n",
      "======================\n",
      "Best model: VotingClassifier(estimators=[('lr', LogisticRegression(C=1.0, class_weight=None, dual=False, fit_intercept=True,\n",
      "          intercept_scaling=1, max_iter=100, multi_class='ovr', n_jobs=1,\n",
      "          penalty='l2', random_state=None, solver='liblinear', tol=0.0001,\n",
      "          verbose=0, warm_start=False)), ('knn_centroid...owski',\n",
      "           metric_params=None, n_jobs=1, n_neighbors=5, p=2,\n",
      "           weights='uniform'))],\n",
      "         n_jobs=1, voting='hard', weights=[1, 1, 1, 1, 1])\n",
      "Best accuracy: 1.0\n",
      "Best predictions: [1 2 2 1 1 1 1 2 1 1 1 3 1 1 2 2 3 3 2 3 2 1 2 3 2 2 2 1 1 3]\n"
     ]
    }
   ],
   "source": [
    "print(\"Performance of models\")\n",
    "print(\"======================\")\n",
    "for model, name in zip(models, model_names):\n",
    "    model.fit(X_train, y_train)\n",
    "    preds = model.predict(X_test)\n",
    "    accuracy = accuracy_score(y_test, preds)\n",
    "    rmse_nb = mean_squared_error(y_test, preds)\n",
    "    print(\"Name:\", name)\n",
    "    print(\"Accuracy score: \", accuracy)\n",
    "    print(\"RMSE: \", rmse_nb) \n",
    "    if accuracy >= best_accuracy:\n",
    "        best_accuracy = accuracy\n",
    "        best_model = model\n",
    "        best_preds = preds\n",
    "        \n",
    "        \n",
    "        \n",
    "print(\"======================\")\n",
    "print(\"Best model:\",best_model)\n",
    "print(\"Best accuracy:\",best_accuracy)\n",
    "print(\"Best predictions:\",best_preds)  "
   ]
  },
  {
   "cell_type": "code",
   "execution_count": 86,
   "metadata": {},
   "outputs": [
    {
     "data": {
      "text/html": [
       "<div>\n",
       "<style>\n",
       "    .dataframe thead tr:only-child th {\n",
       "        text-align: right;\n",
       "    }\n",
       "\n",
       "    .dataframe thead th {\n",
       "        text-align: left;\n",
       "    }\n",
       "\n",
       "    .dataframe tbody tr th {\n",
       "        vertical-align: top;\n",
       "    }\n",
       "</style>\n",
       "<table border=\"1\" class=\"dataframe\">\n",
       "  <thead>\n",
       "    <tr style=\"text-align: right;\">\n",
       "      <th></th>\n",
       "      <th>gender</th>\n",
       "      <th>bloodglucoselevel</th>\n",
       "      <th>bmi</th>\n",
       "      <th>sugarcomsumed</th>\n",
       "      <th>label</th>\n",
       "    </tr>\n",
       "  </thead>\n",
       "  <tbody>\n",
       "    <tr>\n",
       "      <th>8</th>\n",
       "      <td>1</td>\n",
       "      <td>130</td>\n",
       "      <td>38.0</td>\n",
       "      <td>10.2</td>\n",
       "      <td>1</td>\n",
       "    </tr>\n",
       "    <tr>\n",
       "      <th>28</th>\n",
       "      <td>1</td>\n",
       "      <td>105</td>\n",
       "      <td>29.0</td>\n",
       "      <td>6.0</td>\n",
       "      <td>2</td>\n",
       "    </tr>\n",
       "    <tr>\n",
       "      <th>18</th>\n",
       "      <td>1</td>\n",
       "      <td>130</td>\n",
       "      <td>39.0</td>\n",
       "      <td>9.5</td>\n",
       "      <td>1</td>\n",
       "    </tr>\n",
       "    <tr>\n",
       "      <th>67</th>\n",
       "      <td>0</td>\n",
       "      <td>97</td>\n",
       "      <td>18.0</td>\n",
       "      <td>0.5</td>\n",
       "      <td>3</td>\n",
       "    </tr>\n",
       "    <tr>\n",
       "      <th>83</th>\n",
       "      <td>0</td>\n",
       "      <td>210</td>\n",
       "      <td>36.0</td>\n",
       "      <td>9.3</td>\n",
       "      <td>1</td>\n",
       "    </tr>\n",
       "  </tbody>\n",
       "</table>\n",
       "</div>"
      ],
      "text/plain": [
       "    gender  bloodglucoselevel   bmi  sugarcomsumed  label\n",
       "8        1                130  38.0           10.2      1\n",
       "28       1                105  29.0            6.0      2\n",
       "18       1                130  39.0            9.5      1\n",
       "67       0                 97  18.0            0.5      3\n",
       "83       0                210  36.0            9.3      1"
      ]
     },
     "execution_count": 86,
     "metadata": {},
     "output_type": "execute_result"
    }
   ],
   "source": [
    "results = X_train\n",
    "X_test = X_test.drop('label',1)\n",
    "X_test['label'] = best_preds\n",
    "results.append(X_test)\n",
    "results.head()"
   ]
  },
  {
   "cell_type": "code",
   "execution_count": 98,
   "metadata": {},
   "outputs": [
    {
     "data": {
      "text/html": [
       "<div>\n",
       "<style>\n",
       "    .dataframe thead tr:only-child th {\n",
       "        text-align: right;\n",
       "    }\n",
       "\n",
       "    .dataframe thead th {\n",
       "        text-align: left;\n",
       "    }\n",
       "\n",
       "    .dataframe tbody tr th {\n",
       "        vertical-align: top;\n",
       "    }\n",
       "</style>\n",
       "<table border=\"1\" class=\"dataframe\">\n",
       "  <thead>\n",
       "    <tr style=\"text-align: right;\">\n",
       "      <th></th>\n",
       "      <th>bloodglucoselevel</th>\n",
       "      <th>bmi</th>\n",
       "      <th>sugarcomsumed</th>\n",
       "      <th>label</th>\n",
       "      <th>gender</th>\n",
       "    </tr>\n",
       "  </thead>\n",
       "  <tbody>\n",
       "    <tr>\n",
       "      <th>8</th>\n",
       "      <td>130</td>\n",
       "      <td>38.0</td>\n",
       "      <td>10.2</td>\n",
       "      <td>1</td>\n",
       "      <td>male</td>\n",
       "    </tr>\n",
       "    <tr>\n",
       "      <th>28</th>\n",
       "      <td>105</td>\n",
       "      <td>29.0</td>\n",
       "      <td>6.0</td>\n",
       "      <td>2</td>\n",
       "      <td>male</td>\n",
       "    </tr>\n",
       "    <tr>\n",
       "      <th>18</th>\n",
       "      <td>130</td>\n",
       "      <td>39.0</td>\n",
       "      <td>9.5</td>\n",
       "      <td>1</td>\n",
       "      <td>male</td>\n",
       "    </tr>\n",
       "    <tr>\n",
       "      <th>67</th>\n",
       "      <td>97</td>\n",
       "      <td>18.0</td>\n",
       "      <td>0.5</td>\n",
       "      <td>3</td>\n",
       "      <td>female</td>\n",
       "    </tr>\n",
       "    <tr>\n",
       "      <th>83</th>\n",
       "      <td>210</td>\n",
       "      <td>36.0</td>\n",
       "      <td>9.3</td>\n",
       "      <td>1</td>\n",
       "      <td>female</td>\n",
       "    </tr>\n",
       "  </tbody>\n",
       "</table>\n",
       "</div>"
      ],
      "text/plain": [
       "    bloodglucoselevel   bmi  sugarcomsumed  label  gender\n",
       "8                 130  38.0           10.2      1    male\n",
       "28                105  29.0            6.0      2    male\n",
       "18                130  39.0            9.5      1    male\n",
       "67                 97  18.0            0.5      3  female\n",
       "83                210  36.0            9.3      1  female"
      ]
     },
     "execution_count": 98,
     "metadata": {},
     "output_type": "execute_result"
    }
   ],
   "source": [
    "\n",
    "results = results.drop('gender',1)\n",
    "#results = results.drop('user',1)\n",
    "\n",
    "results['gender'] = X_dec\n",
    "#results['user'] = X_dec_user\n",
    "\n",
    "results.head()"
   ]
  },
  {
   "cell_type": "code",
   "execution_count": 99,
   "metadata": {},
   "outputs": [
    {
     "name": "stdout",
     "output_type": "stream",
     "text": [
      "[3]\n"
     ]
    }
   ],
   "source": [
    "#predict for the new user \n",
    "\n",
    "from pandas.io.json import json_normalize\n",
    "df = pd.DataFrame.from_dict(json_normalize({ 'bloodglucodelevel':180, 'bmi' :28 , \n",
    "                                            'sugarcomsumed' :10, 'gender':0,  'label': 0}), orient='columns')\n",
    "\n",
    "\n",
    "predicted = best_model.predict(df)\n",
    "\n",
    "print(predicted)"
   ]
  },
  {
   "cell_type": "code",
   "execution_count": 94,
   "metadata": {
    "collapsed": true
   },
   "outputs": [],
   "source": [
    "import pickle\n",
    "s = pickle.dumps(best_model)"
   ]
  },
  {
   "cell_type": "code",
   "execution_count": 95,
   "metadata": {},
   "outputs": [
    {
     "data": {
      "text/plain": [
       "['ZenHealthAppEngine/models/user_classifier.pkl']"
      ]
     },
     "execution_count": 95,
     "metadata": {},
     "output_type": "execute_result"
    }
   ],
   "source": [
    "from sklearn.externals import joblib\n",
    "joblib.dump(best_model, 'ZenHealthAppEngine/models/user_classifier.pkl')"
   ]
  },
  {
   "cell_type": "code",
   "execution_count": 96,
   "metadata": {
    "collapsed": true
   },
   "outputs": [],
   "source": [
    "best_model_pkl = joblib.load('ZenHealthAppEngine/models/user_classifier.pkl') "
   ]
  },
  {
   "cell_type": "code",
   "execution_count": 97,
   "metadata": {},
   "outputs": [
    {
     "name": "stdout",
     "output_type": "stream",
     "text": [
      "[3]\n"
     ]
    }
   ],
   "source": [
    "predicted = best_model_pkl.predict(df)\n",
    "\n",
    "print(predicted)"
   ]
  },
  {
   "cell_type": "code",
   "execution_count": null,
   "metadata": {
    "collapsed": true
   },
   "outputs": [],
   "source": []
  },
  {
   "cell_type": "code",
   "execution_count": null,
   "metadata": {
    "collapsed": true
   },
   "outputs": [],
   "source": []
  }
 ],
 "metadata": {
  "kernelspec": {
   "display_name": "Python 3",
   "language": "python",
   "name": "python3"
  },
  "language_info": {
   "codemirror_mode": {
    "name": "ipython",
    "version": 3
   },
   "file_extension": ".py",
   "mimetype": "text/x-python",
   "name": "python",
   "nbconvert_exporter": "python",
   "pygments_lexer": "ipython3",
   "version": "3.6.1"
  }
 },
 "nbformat": 4,
 "nbformat_minor": 2
}
