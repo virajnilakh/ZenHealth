{
 "cells": [
  {
   "cell_type": "code",
   "execution_count": 11,
   "metadata": {
    "collapsed": true
   },
   "outputs": [],
   "source": [
    "#Import Library\n",
    "from time import time\n",
    "import matplotlib.pyplot as plt\n",
    "\n",
    "from sklearn.naive_bayes import GaussianNB\n",
    "from sklearn import svm\n",
    "from sklearn.linear_model import LogisticRegression\n",
    "from sklearn.neighbors.nearest_centroid import NearestCentroid\n",
    "from sklearn.neighbors import KNeighborsClassifier\n",
    "from sklearn.ensemble import RandomForestClassifier, VotingClassifier\n",
    "\n",
    "import pandas as pd\n",
    "import numpy as np\n",
    "import scipy as sp\n",
    "\n",
    "from sklearn.metrics import accuracy_score\n",
    "from sklearn.metrics import mean_squared_error\n",
    "from sklearn.model_selection import train_test_split\n",
    "from sklearn import preprocessing"
   ]
  },
  {
   "cell_type": "code",
   "execution_count": 25,
   "metadata": {},
   "outputs": [
    {
     "data": {
      "text/html": [
       "<div>\n",
       "<style>\n",
       "    .dataframe thead tr:only-child th {\n",
       "        text-align: right;\n",
       "    }\n",
       "\n",
       "    .dataframe thead th {\n",
       "        text-align: left;\n",
       "    }\n",
       "\n",
       "    .dataframe tbody tr th {\n",
       "        vertical-align: top;\n",
       "    }\n",
       "</style>\n",
       "<table border=\"1\" class=\"dataframe\">\n",
       "  <thead>\n",
       "    <tr style=\"text-align: right;\">\n",
       "      <th></th>\n",
       "      <th>fooditem</th>\n",
       "      <th>Course</th>\n",
       "      <th>Cuisine</th>\n",
       "      <th>Ingredients</th>\n",
       "      <th>Name</th>\n",
       "      <th>Nutrients.Calories</th>\n",
       "      <th>Nutrients.Carbohydrates</th>\n",
       "      <th>Nutrients.Sugar</th>\n",
       "      <th>allowedAllergy</th>\n",
       "      <th>allowedDiet</th>\n",
       "      <th>allowedIngredient</th>\n",
       "      <th>sugarLevel</th>\n",
       "    </tr>\n",
       "  </thead>\n",
       "  <tbody>\n",
       "    <tr>\n",
       "      <th>0</th>\n",
       "      <td>0</td>\n",
       "      <td>['Main Dishes']</td>\n",
       "      <td>NaN</td>\n",
       "      <td>['4 cups zucchini, cubed', '1 cup green peas',...</td>\n",
       "      <td>Zucchini and Green Peas Coconut Curry</td>\n",
       "      <td>302.13 kcal</td>\n",
       "      <td>19.55 grams</td>\n",
       "      <td>10.08 grams</td>\n",
       "      <td>Dairy-Free</td>\n",
       "      <td>Pescetarian</td>\n",
       "      <td>NaN</td>\n",
       "      <td>High</td>\n",
       "    </tr>\n",
       "    <tr>\n",
       "      <th>1</th>\n",
       "      <td>1</td>\n",
       "      <td>['Main Dishes']</td>\n",
       "      <td>NaN</td>\n",
       "      <td>['1 tablespoon chile powder', '1 tablespoon pa...</td>\n",
       "      <td>10-Minute Maple-Crusted Salmon</td>\n",
       "      <td>409.81 kcal</td>\n",
       "      <td>13.59 grams</td>\n",
       "      <td>10.83 grams</td>\n",
       "      <td>Dairy-Free</td>\n",
       "      <td>Pescetarian</td>\n",
       "      <td>NaN</td>\n",
       "      <td>High</td>\n",
       "    </tr>\n",
       "    <tr>\n",
       "      <th>2</th>\n",
       "      <td>2</td>\n",
       "      <td>['Main Dishes']</td>\n",
       "      <td>['Asian']</td>\n",
       "      <td>['2 cups dried shiitakes (12-16 mushrooms)', '...</td>\n",
       "      <td>Crispy &amp; Chewy Sesame Shiitake</td>\n",
       "      <td>331.11 kcal</td>\n",
       "      <td>38.23 grams</td>\n",
       "      <td>11.2 grams</td>\n",
       "      <td>Dairy-Free</td>\n",
       "      <td>Pescetarian</td>\n",
       "      <td>NaN</td>\n",
       "      <td>High</td>\n",
       "    </tr>\n",
       "  </tbody>\n",
       "</table>\n",
       "</div>"
      ],
      "text/plain": [
       "   fooditem           Course    Cuisine  \\\n",
       "0         0  ['Main Dishes']        NaN   \n",
       "1         1  ['Main Dishes']        NaN   \n",
       "2         2  ['Main Dishes']  ['Asian']   \n",
       "\n",
       "                                         Ingredients  \\\n",
       "0  ['4 cups zucchini, cubed', '1 cup green peas',...   \n",
       "1  ['1 tablespoon chile powder', '1 tablespoon pa...   \n",
       "2  ['2 cups dried shiitakes (12-16 mushrooms)', '...   \n",
       "\n",
       "                                    Name Nutrients.Calories  \\\n",
       "0  Zucchini and Green Peas Coconut Curry        302.13 kcal   \n",
       "1         10-Minute Maple-Crusted Salmon        409.81 kcal   \n",
       "2         Crispy & Chewy Sesame Shiitake        331.11 kcal   \n",
       "\n",
       "  Nutrients.Carbohydrates Nutrients.Sugar allowedAllergy  allowedDiet  \\\n",
       "0             19.55 grams     10.08 grams     Dairy-Free  Pescetarian   \n",
       "1             13.59 grams     10.83 grams     Dairy-Free  Pescetarian   \n",
       "2             38.23 grams      11.2 grams     Dairy-Free  Pescetarian   \n",
       "\n",
       "  allowedIngredient sugarLevel  \n",
       "0               NaN       High  \n",
       "1               NaN       High  \n",
       "2               NaN       High  "
      ]
     },
     "execution_count": 25,
     "metadata": {},
     "output_type": "execute_result"
    }
   ],
   "source": [
    "# ------------------------------- similarity approach------------------------------\n",
    "\n",
    "food_df = pd.read_csv('ZenHealthAppEngine/dataset/fooditem.csv')\n",
    "food_df.columns = ['fooditem' , 'Course','Cuisine','Ingredients' , 'Name' , 'Nutrients.Calories' , \n",
    "                      'Nutrients.Carbohydrates','Nutrients.Sugar' \n",
    "                   ,'allowedAllergy','allowedDiet','allowedIngredient','sugarLevel']\n",
    "food_df.head(3)"
   ]
  },
  {
   "cell_type": "code",
   "execution_count": 26,
   "metadata": {},
   "outputs": [
    {
     "data": {
      "text/html": [
       "<div>\n",
       "<style>\n",
       "    .dataframe thead tr:only-child th {\n",
       "        text-align: right;\n",
       "    }\n",
       "\n",
       "    .dataframe thead th {\n",
       "        text-align: left;\n",
       "    }\n",
       "\n",
       "    .dataframe tbody tr th {\n",
       "        vertical-align: top;\n",
       "    }\n",
       "</style>\n",
       "<table border=\"1\" class=\"dataframe\">\n",
       "  <thead>\n",
       "    <tr style=\"text-align: right;\">\n",
       "      <th></th>\n",
       "      <th>fooditem</th>\n",
       "      <th>Ingredients</th>\n",
       "      <th>Name</th>\n",
       "      <th>Nutrients.Calories</th>\n",
       "      <th>Nutrients.Carbohydrates</th>\n",
       "      <th>Nutrients.Sugar</th>\n",
       "      <th>sugarLevel</th>\n",
       "    </tr>\n",
       "  </thead>\n",
       "  <tbody>\n",
       "    <tr>\n",
       "      <th>0</th>\n",
       "      <td>0</td>\n",
       "      <td>['4 cups zucchini, cubed', '1 cup green peas',...</td>\n",
       "      <td>Zucchini and Green Peas Coconut Curry</td>\n",
       "      <td>302.13 kcal</td>\n",
       "      <td>19.55 grams</td>\n",
       "      <td>10.08 grams</td>\n",
       "      <td>High</td>\n",
       "    </tr>\n",
       "    <tr>\n",
       "      <th>1</th>\n",
       "      <td>1</td>\n",
       "      <td>['1 tablespoon chile powder', '1 tablespoon pa...</td>\n",
       "      <td>10-Minute Maple-Crusted Salmon</td>\n",
       "      <td>409.81 kcal</td>\n",
       "      <td>13.59 grams</td>\n",
       "      <td>10.83 grams</td>\n",
       "      <td>High</td>\n",
       "    </tr>\n",
       "    <tr>\n",
       "      <th>2</th>\n",
       "      <td>2</td>\n",
       "      <td>['2 cups dried shiitakes (12-16 mushrooms)', '...</td>\n",
       "      <td>Crispy &amp; Chewy Sesame Shiitake</td>\n",
       "      <td>331.11 kcal</td>\n",
       "      <td>38.23 grams</td>\n",
       "      <td>11.2 grams</td>\n",
       "      <td>High</td>\n",
       "    </tr>\n",
       "  </tbody>\n",
       "</table>\n",
       "</div>"
      ],
      "text/plain": [
       "   fooditem                                        Ingredients  \\\n",
       "0         0  ['4 cups zucchini, cubed', '1 cup green peas',...   \n",
       "1         1  ['1 tablespoon chile powder', '1 tablespoon pa...   \n",
       "2         2  ['2 cups dried shiitakes (12-16 mushrooms)', '...   \n",
       "\n",
       "                                    Name Nutrients.Calories  \\\n",
       "0  Zucchini and Green Peas Coconut Curry        302.13 kcal   \n",
       "1         10-Minute Maple-Crusted Salmon        409.81 kcal   \n",
       "2         Crispy & Chewy Sesame Shiitake        331.11 kcal   \n",
       "\n",
       "  Nutrients.Carbohydrates Nutrients.Sugar sugarLevel  \n",
       "0             19.55 grams     10.08 grams       High  \n",
       "1             13.59 grams     10.83 grams       High  \n",
       "2             38.23 grams      11.2 grams       High  "
      ]
     },
     "execution_count": 26,
     "metadata": {},
     "output_type": "execute_result"
    }
   ],
   "source": [
    " to_drop = ['Course','Cuisine' , 'allowedAllergy' , 'allowedDiet', 'allowedIngredient'\n",
    "           ]\n",
    "food_df.drop(to_drop, inplace=True, axis=1)\n",
    "\n",
    "food_df.head(3)"
   ]
  },
  {
   "cell_type": "code",
   "execution_count": 44,
   "metadata": {},
   "outputs": [
    {
     "data": {
      "text/plain": [
       "(471, 7)"
      ]
     },
     "execution_count": 44,
     "metadata": {},
     "output_type": "execute_result"
    }
   ],
   "source": [
    "t = pd.DataFrame()\n",
    "t = food_df.loc[ food_df['sugarLevel'] == 'High']\n",
    "t.shape"
   ]
  },
  {
   "cell_type": "code",
   "execution_count": 27,
   "metadata": {
    "collapsed": true
   },
   "outputs": [],
   "source": [
    "import re\n",
    "def clean_df(column):\n",
    "    column = re.sub(r'([^\\.\\s\\w]|_)+', '', column).replace(\".\", \". \")    \n",
    "    return column\n",
    "\n",
    "def clean_units(column):\n",
    "    column = column.replace(\"grams\",\"\")\n",
    "    column = column.replace(\"kcal\",\"\")\n",
    "    return column\n"
   ]
  },
  {
   "cell_type": "code",
   "execution_count": 28,
   "metadata": {},
   "outputs": [
    {
     "data": {
      "text/html": [
       "<div>\n",
       "<style>\n",
       "    .dataframe thead tr:only-child th {\n",
       "        text-align: right;\n",
       "    }\n",
       "\n",
       "    .dataframe thead th {\n",
       "        text-align: left;\n",
       "    }\n",
       "\n",
       "    .dataframe tbody tr th {\n",
       "        vertical-align: top;\n",
       "    }\n",
       "</style>\n",
       "<table border=\"1\" class=\"dataframe\">\n",
       "  <thead>\n",
       "    <tr style=\"text-align: right;\">\n",
       "      <th></th>\n",
       "      <th>fooditem</th>\n",
       "      <th>Ingredients</th>\n",
       "      <th>Name</th>\n",
       "      <th>Nutrients.Calories</th>\n",
       "      <th>Nutrients.Carbohydrates</th>\n",
       "      <th>Nutrients.Sugar</th>\n",
       "      <th>sugarLevel</th>\n",
       "    </tr>\n",
       "  </thead>\n",
       "  <tbody>\n",
       "    <tr>\n",
       "      <th>0</th>\n",
       "      <td>0</td>\n",
       "      <td>4 cups zucchini cubed 1 cup green peas 2 cups ...</td>\n",
       "      <td>Zucchini and Green Peas Coconut Curry</td>\n",
       "      <td>302.13</td>\n",
       "      <td>19.55</td>\n",
       "      <td>10.08</td>\n",
       "      <td>High</td>\n",
       "    </tr>\n",
       "    <tr>\n",
       "      <th>1</th>\n",
       "      <td>1</td>\n",
       "      <td>1 tablespoon chile powder 1 tablespoon paprika...</td>\n",
       "      <td>10Minute MapleCrusted Salmon</td>\n",
       "      <td>409.81</td>\n",
       "      <td>13.59</td>\n",
       "      <td>10.83</td>\n",
       "      <td>High</td>\n",
       "    </tr>\n",
       "    <tr>\n",
       "      <th>2</th>\n",
       "      <td>2</td>\n",
       "      <td>2 cups dried shiitakes 1216 mushrooms Boiling ...</td>\n",
       "      <td>Crispy  Chewy Sesame Shiitake</td>\n",
       "      <td>331.11</td>\n",
       "      <td>38.23</td>\n",
       "      <td>11.2</td>\n",
       "      <td>High</td>\n",
       "    </tr>\n",
       "  </tbody>\n",
       "</table>\n",
       "</div>"
      ],
      "text/plain": [
       "   fooditem                                        Ingredients  \\\n",
       "0         0  4 cups zucchini cubed 1 cup green peas 2 cups ...   \n",
       "1         1  1 tablespoon chile powder 1 tablespoon paprika...   \n",
       "2         2  2 cups dried shiitakes 1216 mushrooms Boiling ...   \n",
       "\n",
       "                                    Name Nutrients.Calories  \\\n",
       "0  Zucchini and Green Peas Coconut Curry            302.13    \n",
       "1           10Minute MapleCrusted Salmon            409.81    \n",
       "2          Crispy  Chewy Sesame Shiitake            331.11    \n",
       "\n",
       "  Nutrients.Carbohydrates Nutrients.Sugar sugarLevel  \n",
       "0                  19.55           10.08        High  \n",
       "1                  13.59           10.83        High  \n",
       "2                  38.23            11.2        High  "
      ]
     },
     "execution_count": 28,
     "metadata": {},
     "output_type": "execute_result"
    }
   ],
   "source": [
    "\n",
    "food_df['Ingredients'] = food_df['Ingredients'].map(lambda j: clean_df(j))\n",
    "food_df['Name'] = food_df['Name'].map(lambda j: clean_df(j))\n",
    "food_df['Nutrients.Calories'] = food_df['Nutrients.Calories'].map(lambda j: clean_units(str(j)))\n",
    "food_df['Nutrients.Carbohydrates'] = food_df['Nutrients.Carbohydrates'].map(lambda j: clean_units(str(j)))\n",
    "food_df['Nutrients.Sugar'] = food_df['Nutrients.Sugar'].map(lambda j: clean_units(str(j)))\n",
    "food_df.head(3)"
   ]
  },
  {
   "cell_type": "code",
   "execution_count": 29,
   "metadata": {},
   "outputs": [
    {
     "data": {
      "text/html": [
       "<div>\n",
       "<style>\n",
       "    .dataframe thead tr:only-child th {\n",
       "        text-align: right;\n",
       "    }\n",
       "\n",
       "    .dataframe thead th {\n",
       "        text-align: left;\n",
       "    }\n",
       "\n",
       "    .dataframe tbody tr th {\n",
       "        vertical-align: top;\n",
       "    }\n",
       "</style>\n",
       "<table border=\"1\" class=\"dataframe\">\n",
       "  <thead>\n",
       "    <tr style=\"text-align: right;\">\n",
       "      <th></th>\n",
       "      <th>fooditem</th>\n",
       "      <th>e_infredients</th>\n",
       "      <th>e_Name</th>\n",
       "      <th>e_Nutrients.Calories</th>\n",
       "      <th>e_Nutrients.Carbohydrates</th>\n",
       "      <th>e_Nutrients.Sugar</th>\n",
       "      <th>e_sugarLevel</th>\n",
       "    </tr>\n",
       "  </thead>\n",
       "  <tbody>\n",
       "    <tr>\n",
       "      <th>0</th>\n",
       "      <td>0</td>\n",
       "      <td>705</td>\n",
       "      <td>902</td>\n",
       "      <td>395</td>\n",
       "      <td>271</td>\n",
       "      <td>132</td>\n",
       "      <td>0</td>\n",
       "    </tr>\n",
       "    <tr>\n",
       "      <th>1</th>\n",
       "      <td>1</td>\n",
       "      <td>280</td>\n",
       "      <td>0</td>\n",
       "      <td>550</td>\n",
       "      <td>138</td>\n",
       "      <td>198</td>\n",
       "      <td>0</td>\n",
       "    </tr>\n",
       "    <tr>\n",
       "      <th>2</th>\n",
       "      <td>2</td>\n",
       "      <td>458</td>\n",
       "      <td>269</td>\n",
       "      <td>440</td>\n",
       "      <td>537</td>\n",
       "      <td>233</td>\n",
       "      <td>0</td>\n",
       "    </tr>\n",
       "  </tbody>\n",
       "</table>\n",
       "</div>"
      ],
      "text/plain": [
       "   fooditem  e_infredients  e_Name  e_Nutrients.Calories  \\\n",
       "0         0            705     902                   395   \n",
       "1         1            280       0                   550   \n",
       "2         2            458     269                   440   \n",
       "\n",
       "   e_Nutrients.Carbohydrates  e_Nutrients.Sugar  e_sugarLevel  \n",
       "0                        271                132             0  \n",
       "1                        138                198             0  \n",
       "2                        537                233             0  "
      ]
     },
     "execution_count": 29,
     "metadata": {},
     "output_type": "execute_result"
    }
   ],
   "source": [
    "le = preprocessing.LabelEncoder()\n",
    "df_encoded = food_df.apply(le.fit_transform)\n",
    "df_encoded.columns = ['fooditem' , 'e_infredients' , 'e_Name' , 'e_Nutrients.Calories' , \n",
    "                      'e_Nutrients.Carbohydrates','e_Nutrients.Sugar' ,'e_sugarLevel']\n",
    "df_encoded.shape\n",
    "df_encoded.head(3)"
   ]
  },
  {
   "cell_type": "code",
   "execution_count": 31,
   "metadata": {},
   "outputs": [
    {
     "data": {
      "text/html": [
       "<div>\n",
       "<style>\n",
       "    .dataframe thead tr:only-child th {\n",
       "        text-align: right;\n",
       "    }\n",
       "\n",
       "    .dataframe thead th {\n",
       "        text-align: left;\n",
       "    }\n",
       "\n",
       "    .dataframe tbody tr th {\n",
       "        vertical-align: top;\n",
       "    }\n",
       "</style>\n",
       "<table border=\"1\" class=\"dataframe\">\n",
       "  <thead>\n",
       "    <tr style=\"text-align: right;\">\n",
       "      <th></th>\n",
       "      <th>fooditem</th>\n",
       "      <th>Ingredients</th>\n",
       "      <th>Name</th>\n",
       "      <th>Nutrients.Calories</th>\n",
       "      <th>Nutrients.Carbohydrates</th>\n",
       "      <th>Nutrients.Sugar</th>\n",
       "      <th>sugarLevel</th>\n",
       "      <th>e_infredients</th>\n",
       "      <th>e_Name</th>\n",
       "      <th>e_Nutrients.Calories</th>\n",
       "      <th>e_Nutrients.Carbohydrates</th>\n",
       "      <th>e_Nutrients.Sugar</th>\n",
       "      <th>e_sugarLevel</th>\n",
       "    </tr>\n",
       "  </thead>\n",
       "  <tbody>\n",
       "    <tr>\n",
       "      <th>0</th>\n",
       "      <td>0</td>\n",
       "      <td>4 cups zucchini cubed 1 cup green peas 2 cups ...</td>\n",
       "      <td>Zucchini and Green Peas Coconut Curry</td>\n",
       "      <td>302.13</td>\n",
       "      <td>19.55</td>\n",
       "      <td>10.08</td>\n",
       "      <td>High</td>\n",
       "      <td>705</td>\n",
       "      <td>902</td>\n",
       "      <td>395</td>\n",
       "      <td>271</td>\n",
       "      <td>132</td>\n",
       "      <td>0</td>\n",
       "    </tr>\n",
       "    <tr>\n",
       "      <th>1</th>\n",
       "      <td>1</td>\n",
       "      <td>1 tablespoon chile powder 1 tablespoon paprika...</td>\n",
       "      <td>10Minute MapleCrusted Salmon</td>\n",
       "      <td>409.81</td>\n",
       "      <td>13.59</td>\n",
       "      <td>10.83</td>\n",
       "      <td>High</td>\n",
       "      <td>280</td>\n",
       "      <td>0</td>\n",
       "      <td>550</td>\n",
       "      <td>138</td>\n",
       "      <td>198</td>\n",
       "      <td>0</td>\n",
       "    </tr>\n",
       "    <tr>\n",
       "      <th>2</th>\n",
       "      <td>2</td>\n",
       "      <td>2 cups dried shiitakes 1216 mushrooms Boiling ...</td>\n",
       "      <td>Crispy  Chewy Sesame Shiitake</td>\n",
       "      <td>331.11</td>\n",
       "      <td>38.23</td>\n",
       "      <td>11.2</td>\n",
       "      <td>High</td>\n",
       "      <td>458</td>\n",
       "      <td>269</td>\n",
       "      <td>440</td>\n",
       "      <td>537</td>\n",
       "      <td>233</td>\n",
       "      <td>0</td>\n",
       "    </tr>\n",
       "  </tbody>\n",
       "</table>\n",
       "</div>"
      ],
      "text/plain": [
       "   fooditem                                        Ingredients  \\\n",
       "0         0  4 cups zucchini cubed 1 cup green peas 2 cups ...   \n",
       "1         1  1 tablespoon chile powder 1 tablespoon paprika...   \n",
       "2         2  2 cups dried shiitakes 1216 mushrooms Boiling ...   \n",
       "\n",
       "                                    Name Nutrients.Calories  \\\n",
       "0  Zucchini and Green Peas Coconut Curry            302.13    \n",
       "1           10Minute MapleCrusted Salmon            409.81    \n",
       "2          Crispy  Chewy Sesame Shiitake            331.11    \n",
       "\n",
       "  Nutrients.Carbohydrates Nutrients.Sugar sugarLevel  e_infredients  e_Name  \\\n",
       "0                  19.55           10.08        High            705     902   \n",
       "1                  13.59           10.83        High            280       0   \n",
       "2                  38.23            11.2        High            458     269   \n",
       "\n",
       "   e_Nutrients.Calories  e_Nutrients.Carbohydrates  e_Nutrients.Sugar  \\\n",
       "0                   395                        271                132   \n",
       "1                   550                        138                198   \n",
       "2                   440                        537                233   \n",
       "\n",
       "   e_sugarLevel  \n",
       "0             0  \n",
       "1             0  \n",
       "2             0  "
      ]
     },
     "execution_count": 31,
     "metadata": {},
     "output_type": "execute_result"
    }
   ],
   "source": [
    "df = pd.merge(food_df, df_encoded, on ='fooditem')\n",
    "df.head(3)"
   ]
  },
  {
   "cell_type": "code",
   "execution_count": 32,
   "metadata": {},
   "outputs": [
    {
     "name": "stdout",
     "output_type": "stream",
     "text": [
      "[ 0.97855364  0.97936525  0.98843895  0.99157941  1.        ]\n"
     ]
    }
   ],
   "source": [
    "# *************** cosine similarity *********************\n",
    "\n",
    "from sklearn.feature_extraction.text import TfidfVectorizer\n",
    "from sklearn.metrics.pairwise import cosine_similarity  \n",
    "\n",
    "tfidf_vectorizer = TfidfVectorizer()\n",
    "tfidf_matrix = tfidf_vectorizer.fit_transform(df_encoded)\n",
    "#print(tfidf_matrix)\n",
    "cosine = cosine_similarity(df_encoded[0:1], df_encoded)\n",
    "#print(cosine)\n",
    "cosine.sort()\n",
    "print(cosine[0][-5:])"
   ]
  },
  {
   "cell_type": "code",
   "execution_count": 33,
   "metadata": {},
   "outputs": [
    {
     "data": {
      "text/plain": [
       "array([[  0,  91, 183,  77, 129],\n",
       "       [  1,  92, 171, 106, 117],\n",
       "       [  2,  67,  34,  19,  75],\n",
       "       ..., \n",
       "       [938, 859, 684, 752, 804],\n",
       "       [939, 781, 754, 914, 867],\n",
       "       [940, 937, 924, 931, 830]], dtype=int64)"
      ]
     },
     "execution_count": 33,
     "metadata": {},
     "output_type": "execute_result"
    }
   ],
   "source": [
    "#************************* neighbourhood similarity *********************\n",
    "\n",
    "import numpy as np\n",
    "from sklearn.neighbors import NearestNeighbors\n",
    "\n",
    "\n",
    "\n",
    "# Next we will instantiate a nearest neighbor object, and call it nbrs. Then we will fit it to dataset X.\n",
    "model = NearestNeighbors(n_neighbors=5, algorithm='ball_tree').fit(df_encoded)\n",
    "\n",
    "# Let's find the k-neighbors of each point in object X. To do that we call the kneighbors() function on object X.\n",
    "distances, indices = model.kneighbors(df_encoded)\n",
    "\n",
    "# Let's print out the indices of neighbors for each record in object X.\n",
    "indices"
   ]
  },
  {
   "cell_type": "code",
   "execution_count": 34,
   "metadata": {},
   "outputs": [
    {
     "name": "stdout",
     "output_type": "stream",
     "text": [
      "[15, 67, 35, 75, 122]\n",
      "**********\n",
      "[30, 145, 63, 7, 22]\n",
      "**********\n",
      "[15, 67, 35, 75, 122, 30, 145, 63, 7, 22]\n"
     ]
    }
   ],
   "source": [
    "#sample\n",
    "# u, i = nbrs.kneighbors([[2,\n",
    "# 370,\n",
    "# 216,\n",
    "# 370,\n",
    "# 458,\n",
    "# 216,\n",
    "# 0]])\n",
    "     \n",
    "# print(i)\n",
    "already_consumed_fooditems = [ 'INDIAN CHOLE', 'Grilled Marinated Flank Steak']\n",
    "result = []\n",
    "for item in already_consumed_fooditems:\n",
    "    row = df.loc[df['Name'] == item]\n",
    "    #print(row)\n",
    "    match = []\n",
    "    match.append(row['fooditem'].values[0])\n",
    "    match.append( row['e_infredients'].values[0])\n",
    "    match.append( row['e_Name'].values[0])\n",
    "    match.append( row['e_Nutrients.Calories'].values[0])\n",
    "    match.append( row['e_Nutrients.Carbohydrates'].values[0])\n",
    "    match.append( row['e_Nutrients.Sugar'].values[0])\n",
    "    match.append( row['e_sugarLevel'].values[0])\n",
    "    #print(match)\n",
    "    #fooditem e_infredients e_Name e_Nutrients.Calories e_Nutrients.Carbohydrates e_Nutrients.Sugar e_sugarLevel\n",
    "    u, i =model.kneighbors([ match ])\n",
    "    result = result + list(i[0])\n",
    "    print(list(i[0]))\n",
    "    print('**********')\n",
    "\n",
    "print(result)"
   ]
  },
  {
   "cell_type": "code",
   "execution_count": 37,
   "metadata": {},
   "outputs": [
    {
     "name": "stdout",
     "output_type": "stream",
     "text": [
      "Adorable Heart Shaped Brownies  :  0.06 \n",
      "Bacon Fat Spice Cookies  :  11.25 \n",
      "Asian Shrimp Scampi  :  11.38 \n",
      "Bacon Wrapped Caramelized Sesame Asparagus  :  4.74 \n",
      "Bell Pepper Chicken Burgers  :  0.83 \n",
      "Asian Beef and Cabbage Salad  :  0.19 \n",
      "Blueberry Banana Oatmeal Smoothie  :  11.29 \n",
      "Bacon Chive Deviled Eggs  :  0.29 \n",
      "3 ingredient Chia Pudding  :  7.35 \n",
      "Andouille Sausage Jambalaya with Shrimp  :  5.93 \n"
     ]
    }
   ],
   "source": [
    "for k in result:\n",
    "    \n",
    "    row = df.loc[df['e_Name'] == k]\n",
    "    print(row['Name'].values[0] ,\" : \",  row['Nutrients.Sugar'].values[0])"
   ]
  },
  {
   "cell_type": "code",
   "execution_count": 38,
   "metadata": {},
   "outputs": [
    {
     "data": {
      "text/plain": [
       "['ZenHealthAppEngine/models/similarity.pkl']"
      ]
     },
     "execution_count": 38,
     "metadata": {},
     "output_type": "execute_result"
    }
   ],
   "source": [
    "from sklearn.externals import joblib\n",
    "joblib.dump(model, 'ZenHealthAppEngine/models/similarity.pkl')"
   ]
  },
  {
   "cell_type": "code",
   "execution_count": 39,
   "metadata": {
    "collapsed": true
   },
   "outputs": [],
   "source": [
    "# test model\n",
    "test_model = joblib.load('ZenHealthAppEngine/models/similarity.pkl') "
   ]
  },
  {
   "cell_type": "code",
   "execution_count": 40,
   "metadata": {},
   "outputs": [
    {
     "data": {
      "text/html": [
       "<div>\n",
       "<style>\n",
       "    .dataframe thead tr:only-child th {\n",
       "        text-align: right;\n",
       "    }\n",
       "\n",
       "    .dataframe thead th {\n",
       "        text-align: left;\n",
       "    }\n",
       "\n",
       "    .dataframe tbody tr th {\n",
       "        vertical-align: top;\n",
       "    }\n",
       "</style>\n",
       "<table border=\"1\" class=\"dataframe\">\n",
       "  <thead>\n",
       "    <tr style=\"text-align: right;\">\n",
       "      <th></th>\n",
       "      <th>userid</th>\n",
       "      <th>fooditem</th>\n",
       "      <th>consumptions</th>\n",
       "      <th>Ingredients</th>\n",
       "      <th>Name</th>\n",
       "      <th>Nutrients.Calories</th>\n",
       "      <th>Nutrients.Carbohydrates</th>\n",
       "      <th>Nutrients.Sugar</th>\n",
       "      <th>sugarLevel</th>\n",
       "    </tr>\n",
       "  </thead>\n",
       "  <tbody>\n",
       "    <tr>\n",
       "      <th>0</th>\n",
       "      <td>user1</td>\n",
       "      <td>431</td>\n",
       "      <td>3</td>\n",
       "      <td>1 10 ounce package frozen shelled edamame 1 ta...</td>\n",
       "      <td>Chipotle Lime Edamame</td>\n",
       "      <td>27.16</td>\n",
       "      <td>1.31</td>\n",
       "      <td>0.22</td>\n",
       "      <td>Low</td>\n",
       "    </tr>\n",
       "    <tr>\n",
       "      <th>1</th>\n",
       "      <td>user1</td>\n",
       "      <td>432</td>\n",
       "      <td>4</td>\n",
       "      <td>1 cup maize flour makai ka atta 34 cup plain f...</td>\n",
       "      <td>Corn Tortillas</td>\n",
       "      <td>73.95</td>\n",
       "      <td>13.45</td>\n",
       "      <td>0.1</td>\n",
       "      <td>Low</td>\n",
       "    </tr>\n",
       "    <tr>\n",
       "      <th>2</th>\n",
       "      <td>user1</td>\n",
       "      <td>433</td>\n",
       "      <td>2</td>\n",
       "      <td>1 10 inch Tortilla wrap 34 Tablespoons of Sout...</td>\n",
       "      <td>Southwest Hummus Wraps</td>\n",
       "      <td>99.2</td>\n",
       "      <td>13.86</td>\n",
       "      <td>0.83</td>\n",
       "      <td>Low</td>\n",
       "    </tr>\n",
       "  </tbody>\n",
       "</table>\n",
       "</div>"
      ],
      "text/plain": [
       "  userid  fooditem  consumptions  \\\n",
       "0  user1       431             3   \n",
       "1  user1       432             4   \n",
       "2  user1       433             2   \n",
       "\n",
       "                                         Ingredients                    Name  \\\n",
       "0  1 10 ounce package frozen shelled edamame 1 ta...   Chipotle Lime Edamame   \n",
       "1  1 cup maize flour makai ka atta 34 cup plain f...          Corn Tortillas   \n",
       "2  1 10 inch Tortilla wrap 34 Tablespoons of Sout...  Southwest Hummus Wraps   \n",
       "\n",
       "  Nutrients.Calories Nutrients.Carbohydrates Nutrients.Sugar sugarLevel  \n",
       "0             27.16                    1.31            0.22         Low  \n",
       "1             73.95                   13.45             0.1         Low  \n",
       "2              99.2                   13.86            0.83         Low  "
      ]
     },
     "execution_count": 40,
     "metadata": {},
     "output_type": "execute_result"
    }
   ],
   "source": [
    "user_food_df = pd.read_csv('ZenHealthAppEngine/dataset/user_fooditem.csv')\n",
    "user_food_df.head()\n",
    "\n",
    "test = pd.merge(user_food_df, food_df, on='fooditem')\n",
    "test.head(3)\n",
    "#test.shape"
   ]
  },
  {
   "cell_type": "code",
   "execution_count": 41,
   "metadata": {},
   "outputs": [
    {
     "name": "stdout",
     "output_type": "stream",
     "text": [
      "{'user1': ['Chipotle Lime Edamame', 'Corn Tortillas', 'Southwest Hummus Wraps', 'Oven Roasted Cabbage Steaks', 'Chipotles Cilantro Lime Rice', 'Homemade Chili Paste with Dried Chilies'], 'user10': ['Macedonian Kebabs Kebapchinja', 'Kerala Style Mutton Potato Curry', 'Mutton and Yellow Split Peas Curry', 'Andhra Mutton Fry RecipeHow to make mutton fry andhra style', 'Mutton Curry Punjabi Style', 'Mutton Chaap Recipe Pakistani Mutton Chops Fry'], 'user15': ['Homemade Pumpkin Pie Spice', 'Clean Eating Peanut Butter Fat Bombs', 'Clean Eating Almond Butter Fudge', 'Sugar Free Strawberry Jelly', 'Wonton Wrappers', 'Paleo Tortilla Chips', 'Adorable Heart Shaped Brownies'], 'user2': ['Garlic Roast Beef', 'Shredded Mexican Beef', 'Garlic Bacon Pot Roast', 'Roasted Bone Marrow', 'Garlic Crusted Prime Rib Roast', 'Garlic Beef Stirfry', 'Simple Roast Beef'], 'user20': ['Slow Cooker Turkey Bacon Avocado and Bean Soup', 'SlowCooker Bacon Corn Chowder', 'Egg Drop Soup'], 'user30': ['Easy Lo Mein', 'Roasted Cauliflower with Chipolte and Lime Vegan GlutenFree DairyFree PaleoFriendly', 'Maximum Weight Loss Juice', 'Easy Low Carb Egg Salad and Day One Back on Keto'], 'user33': ['Easy Chicken Enchilada Casserole', 'Flourless Chocolate Peanut Butter Cookies gluten free', 'Cinnamon Honey Shortbread ', 'Potatoes Au Gratin', 'Quick  Easy 4 Ingredient Broccoli Cheese Soup'], 'user40': ['Cinnamon Sugar Twists', 'Apple Pie Egg Rolls', 'Baked Apple Chips', 'Apple Pie Jello Shots', 'Skinny Peanut Butter Banana Strawberry Wrap', 'Mango Chicken Dog Cookies', 'Hahnchen aus dem Sack', 'Cupcakes for Chickens'], 'user44': ['Chicken Salad Sandwiches', 'Oven Baked Crispy Chicken', 'Paprika Chicken Asparagus and SunDried Tomatoes Skillet', 'Quick and Easy 4 Ingredient Dinner', 'Baked Brown Sugar Chicken with Garlic'], 'user45': ['Biscochitos', 'Traditional New Mexican Cookies', 'Plantain Tortillas', 'Easy Paleo Biscuits', 'Easy Paleo Biscuits', 'Tang Yuan Chinese glutinous rice balls 汤圆'], 'user48': ['Slow Cooker Tomato Kale and Quinoa Soup', 'Brazilian Shrimp Soup', 'Smoky Chickpea Red Lentil  Vegetable Soup'], 'user55': ['10Minute MapleCrusted Salmon', 'Crispy  Chewy Sesame Shiitake', 'Indian Shrimp Curry', 'Thai Sweet Potato Curry', 'SwordfishZucchini Kebabs', 'Crispy Honey Lime Tilapia'], 'user60': ['Vegan Irish Stew', 'Vegan Mushroom Paella', 'Best Homemade Pizza Dough', 'Easy BBQ Tofu', 'INDIAN CHOLE'], 'user65': ['Korean beef Bulgogi', 'Freezer Friendly Meal', 'Grilled Marinated Flank Steak', 'Honey Dijon Ham', 'Cajun Jambalaya', 'Hawaiian Pork Chops'], 'user70': ['BLTA Pesto Chicken Salad  Low Carb Gluten Free Paleo', 'Santa Fe Chicken Salad', 'Sloppy Joes Recipe  only 3 ingredients', 'The Beef Jerky Recipe Almost Any Guy Can Make at Home', 'Sassy Sloppy Joes', 'Sloppy Joes', 'Pulled Pork Sandwich', 'Poached Egg on Toast with Chipotle Mayonnaise Bacon and Avocado'], 'user73': ['Slow Cooker Split Pea Soup', 'Sweet and Spicy Chicken Marinade', 'Classic Stuffed Peppers', 'Paleo Crockpot Meatballs', 'EASY PORK CUTLETS WITH SAUTEED APPLES', 'Slow Cooker Baked Beans', 'A Hungry Ghosts Inspired', 'Fall Off the Bone Oven Ribs', 'Honey Mustard Pork Chops', 'Slow Cooker Baked Beans with Bacon'], 'user75': ['Raw Brownie Bites Vegan Paleo', 'Caramelized Beets', 'Easy 5 Minute Pizza Sauce', 'Chocolate Peanut Butter Skinny Ice Cream']}\n"
     ]
    }
   ],
   "source": [
    "users = {}\n",
    "\n",
    "distinct_users=np.unique(user_food_df['userid'])\n",
    "for user in distinct_users:\n",
    "    data =test[test['userid'] == user]['Name'].values\n",
    "    #print(data)\n",
    "    if user in users:\n",
    "        users[user].append(data[0])\n",
    "    else:\n",
    "        users[user] = list(data)\n",
    "     #already_consumed_fooditems.append(row[''])\n",
    "\n",
    "print(users)"
   ]
  },
  {
   "cell_type": "code",
   "execution_count": 42,
   "metadata": {},
   "outputs": [
    {
     "ename": "IndentationError",
     "evalue": "expected an indented block (<ipython-input-42-819069cf80a5>, line 26)",
     "output_type": "error",
     "traceback": [
      "\u001b[1;36m  File \u001b[1;32m\"<ipython-input-42-819069cf80a5>\"\u001b[1;36m, line \u001b[1;32m26\u001b[0m\n\u001b[1;33m    rec[user] = result\u001b[0m\n\u001b[1;37m    ^\u001b[0m\n\u001b[1;31mIndentationError\u001b[0m\u001b[1;31m:\u001b[0m expected an indented block\n"
     ]
    }
   ],
   "source": [
    "\n",
    "rec = {}\n",
    "for user, already_consumed_fooditems in users.items():\n",
    "    result = []\n",
    "    \n",
    "    for item in already_consumed_fooditems:\n",
    "        \n",
    "        row = df.loc[df['Name'] == item]\n",
    "        #print(row)\n",
    "        match = []\n",
    "        match.append(row['fooditem'].values[0])\n",
    "        match.append( row['e_infredients'].values[0])\n",
    "        match.append( row['e_Name'].values[0])\n",
    "        match.append( row['e_Nutrients.Calories'].values[0])\n",
    "        match.append( row['e_Nutrients.Carbohydrates'].values[0])\n",
    "        match.append( row['e_Nutrients.Sugar'].values[0])\n",
    "        match.append( row['e_sugarLevel'].values[0])\n",
    "        #print(match)\n",
    "        #fooditem e_infredients e_Name e_Nutrients.Calories e_Nutrients.Carbohydrates e_Nutrients.Sugar e_sugarLevel\n",
    "        u, i =model.kneighbors([ match ])\n",
    "        result = result + list(i[0])\n",
    "        print(list(i[0]))\n",
    "        print('**********')\n",
    "        for k in result:\n",
    "            \n",
    "    rec[user] = result\n",
    "\n",
    "print(rec)"
   ]
  },
  {
   "cell_type": "code",
   "execution_count": null,
   "metadata": {},
   "outputs": [],
   "source": []
  },
  {
   "cell_type": "code",
   "execution_count": 43,
   "metadata": {},
   "outputs": [
    {
     "ename": "NameError",
     "evalue": "name 'rec' is not defined",
     "output_type": "error",
     "traceback": [
      "\u001b[1;31m---------------------------------------------------------------------------\u001b[0m",
      "\u001b[1;31mNameError\u001b[0m                                 Traceback (most recent call last)",
      "\u001b[1;32m<ipython-input-43-4b52fe9752e6>\u001b[0m in \u001b[0;36m<module>\u001b[1;34m()\u001b[0m\n\u001b[0;32m      1\u001b[0m \u001b[0mnames\u001b[0m \u001b[1;33m=\u001b[0m \u001b[1;33m[\u001b[0m\u001b[1;33m]\u001b[0m\u001b[1;33m\u001b[0m\u001b[0m\n\u001b[1;32m----> 2\u001b[1;33m \u001b[1;32mfor\u001b[0m \u001b[0muser\u001b[0m\u001b[1;33m,\u001b[0m\u001b[0mresult\u001b[0m \u001b[1;32min\u001b[0m \u001b[0mrec\u001b[0m\u001b[1;33m.\u001b[0m\u001b[0mitems\u001b[0m\u001b[1;33m(\u001b[0m\u001b[1;33m)\u001b[0m\u001b[1;33m:\u001b[0m\u001b[1;33m\u001b[0m\u001b[0m\n\u001b[0m\u001b[0;32m      3\u001b[0m     \u001b[1;32mfor\u001b[0m \u001b[0mk\u001b[0m \u001b[1;32min\u001b[0m \u001b[0mresult\u001b[0m\u001b[1;33m:\u001b[0m\u001b[1;33m\u001b[0m\u001b[0m\n\u001b[0;32m      4\u001b[0m         \u001b[0mrow\u001b[0m \u001b[1;33m=\u001b[0m \u001b[0mdf\u001b[0m\u001b[1;33m.\u001b[0m\u001b[0mloc\u001b[0m\u001b[1;33m[\u001b[0m\u001b[0mencoded_decode\u001b[0m\u001b[1;33m[\u001b[0m\u001b[1;34m'DecName'\u001b[0m\u001b[1;33m]\u001b[0m \u001b[1;33m==\u001b[0m \u001b[0mk\u001b[0m\u001b[1;33m]\u001b[0m\u001b[1;33m\u001b[0m\u001b[0m\n\u001b[0;32m      5\u001b[0m         \u001b[0mprint\u001b[0m\u001b[1;33m(\u001b[0m\u001b[0mrow\u001b[0m\u001b[1;33m)\u001b[0m\u001b[1;33m\u001b[0m\u001b[0m\n",
      "\u001b[1;31mNameError\u001b[0m: name 'rec' is not defined"
     ]
    }
   ],
   "source": [
    "names = []\n",
    "for user,result in rec.items():\n",
    "    for k in result:           \n",
    "        row = df.loc[encoded_decode['DecName'] == k]\n",
    "        print(row)\n",
    "        name = print(row['Name'].values[0] ,\" : \",  row['Nutrients.Sugar'].values[0])\n",
    "        names.append(name)"
   ]
  },
  {
   "cell_type": "code",
   "execution_count": null,
   "metadata": {
    "collapsed": true
   },
   "outputs": [],
   "source": [
    "    "
   ]
  }
 ],
 "metadata": {
  "kernelspec": {
   "display_name": "Python 3",
   "language": "python",
   "name": "python3"
  },
  "language_info": {
   "codemirror_mode": {
    "name": "ipython",
    "version": 3
   },
   "file_extension": ".py",
   "mimetype": "text/x-python",
   "name": "python",
   "nbconvert_exporter": "python",
   "pygments_lexer": "ipython3",
   "version": "3.6.1"
  }
 },
 "nbformat": 4,
 "nbformat_minor": 2
}
