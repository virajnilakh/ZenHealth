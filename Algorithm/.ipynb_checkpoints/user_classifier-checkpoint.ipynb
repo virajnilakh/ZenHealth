{
 "cells": [
  {
   "cell_type": "code",
   "execution_count": 1,
   "metadata": {
    "collapsed": true
   },
   "outputs": [],
   "source": [
    "#Import Library\n",
    "from time import time\n",
    "import matplotlib.pyplot as plt\n",
    "\n",
    "from sklearn.naive_bayes import GaussianNB\n",
    "from sklearn import svm\n",
    "from sklearn.linear_model import LogisticRegression\n",
    "from sklearn.neighbors.nearest_centroid import NearestCentroid\n",
    "from sklearn.neighbors import KNeighborsClassifier\n",
    "from sklearn.ensemble import RandomForestClassifier, VotingClassifier\n",
    "\n",
    "import pandas as pd\n",
    "import numpy as np\n",
    "import scipy as sp\n",
    "\n",
    "from sklearn.metrics import accuracy_score\n",
    "from sklearn.metrics import mean_squared_error\n",
    "from sklearn.model_selection import train_test_split\n",
    "from sklearn import preprocessing"
   ]
  },
  {
   "cell_type": "code",
   "execution_count": 2,
   "metadata": {},
   "outputs": [
    {
     "data": {
      "text/html": [
       "<div>\n",
       "<style>\n",
       "    .dataframe thead tr:only-child th {\n",
       "        text-align: right;\n",
       "    }\n",
       "\n",
       "    .dataframe thead th {\n",
       "        text-align: left;\n",
       "    }\n",
       "\n",
       "    .dataframe tbody tr th {\n",
       "        vertical-align: top;\n",
       "    }\n",
       "</style>\n",
       "<table border=\"1\" class=\"dataframe\">\n",
       "  <thead>\n",
       "    <tr style=\"text-align: right;\">\n",
       "      <th></th>\n",
       "      <th>id</th>\n",
       "      <th>user</th>\n",
       "      <th>bloodglucoselevel</th>\n",
       "      <th>bmi</th>\n",
       "      <th>gender</th>\n",
       "      <th>sugarcomsumed</th>\n",
       "      <th>label</th>\n",
       "    </tr>\n",
       "  </thead>\n",
       "  <tbody>\n",
       "    <tr>\n",
       "      <th>0</th>\n",
       "      <td>1</td>\n",
       "      <td>user1</td>\n",
       "      <td>9.0</td>\n",
       "      <td>29.0</td>\n",
       "      <td>male</td>\n",
       "      <td>8.0</td>\n",
       "      <td>1</td>\n",
       "    </tr>\n",
       "    <tr>\n",
       "      <th>1</th>\n",
       "      <td>2</td>\n",
       "      <td>user2</td>\n",
       "      <td>9.1</td>\n",
       "      <td>30.0</td>\n",
       "      <td>female</td>\n",
       "      <td>8.5</td>\n",
       "      <td>1</td>\n",
       "    </tr>\n",
       "    <tr>\n",
       "      <th>2</th>\n",
       "      <td>3</td>\n",
       "      <td>user3</td>\n",
       "      <td>9.6</td>\n",
       "      <td>31.0</td>\n",
       "      <td>male</td>\n",
       "      <td>9.0</td>\n",
       "      <td>1</td>\n",
       "    </tr>\n",
       "    <tr>\n",
       "      <th>3</th>\n",
       "      <td>4</td>\n",
       "      <td>user4</td>\n",
       "      <td>10.0</td>\n",
       "      <td>32.0</td>\n",
       "      <td>female</td>\n",
       "      <td>9.5</td>\n",
       "      <td>1</td>\n",
       "    </tr>\n",
       "    <tr>\n",
       "      <th>4</th>\n",
       "      <td>5</td>\n",
       "      <td>user5</td>\n",
       "      <td>11.0</td>\n",
       "      <td>33.0</td>\n",
       "      <td>male</td>\n",
       "      <td>10.0</td>\n",
       "      <td>1</td>\n",
       "    </tr>\n",
       "  </tbody>\n",
       "</table>\n",
       "</div>"
      ],
      "text/plain": [
       "   id   user  bloodglucoselevel   bmi  gender  sugarcomsumed  label\n",
       "0   1  user1                9.0  29.0    male            8.0      1\n",
       "1   2  user2                9.1  30.0  female            8.5      1\n",
       "2   3  user3                9.6  31.0    male            9.0      1\n",
       "3   4  user4               10.0  32.0  female            9.5      1\n",
       "4   5  user5               11.0  33.0    male           10.0      1"
      ]
     },
     "execution_count": 2,
     "metadata": {},
     "output_type": "execute_result"
    }
   ],
   "source": [
    "X = pd.read_csv('ZenHealthAppEngine/dataset/user_classifier.csv')\n",
    "Y = X['label']\n",
    "X.head()\n"
   ]
  },
  {
   "cell_type": "code",
   "execution_count": 3,
   "metadata": {},
   "outputs": [
    {
     "data": {
      "text/html": [
       "<div>\n",
       "<style>\n",
       "    .dataframe thead tr:only-child th {\n",
       "        text-align: right;\n",
       "    }\n",
       "\n",
       "    .dataframe thead th {\n",
       "        text-align: left;\n",
       "    }\n",
       "\n",
       "    .dataframe tbody tr th {\n",
       "        vertical-align: top;\n",
       "    }\n",
       "</style>\n",
       "<table border=\"1\" class=\"dataframe\">\n",
       "  <thead>\n",
       "    <tr style=\"text-align: right;\">\n",
       "      <th></th>\n",
       "      <th>id</th>\n",
       "      <th>bloodglucoselevel</th>\n",
       "      <th>bmi</th>\n",
       "      <th>sugarcomsumed</th>\n",
       "      <th>label</th>\n",
       "      <th>gender</th>\n",
       "      <th>user</th>\n",
       "    </tr>\n",
       "  </thead>\n",
       "  <tbody>\n",
       "    <tr>\n",
       "      <th>0</th>\n",
       "      <td>1</td>\n",
       "      <td>9.0</td>\n",
       "      <td>29.0</td>\n",
       "      <td>8.0</td>\n",
       "      <td>1</td>\n",
       "      <td>1</td>\n",
       "      <td>0</td>\n",
       "    </tr>\n",
       "    <tr>\n",
       "      <th>1</th>\n",
       "      <td>2</td>\n",
       "      <td>9.1</td>\n",
       "      <td>30.0</td>\n",
       "      <td>8.5</td>\n",
       "      <td>1</td>\n",
       "      <td>0</td>\n",
       "      <td>11</td>\n",
       "    </tr>\n",
       "    <tr>\n",
       "      <th>2</th>\n",
       "      <td>3</td>\n",
       "      <td>9.6</td>\n",
       "      <td>31.0</td>\n",
       "      <td>9.0</td>\n",
       "      <td>1</td>\n",
       "      <td>1</td>\n",
       "      <td>22</td>\n",
       "    </tr>\n",
       "  </tbody>\n",
       "</table>\n",
       "</div>"
      ],
      "text/plain": [
       "   id  bloodglucoselevel   bmi  sugarcomsumed  label  gender  user\n",
       "0   1                9.0  29.0            8.0      1       1     0\n",
       "1   2                9.1  30.0            8.5      1       0    11\n",
       "2   3                9.6  31.0            9.0      1       1    22"
      ]
     },
     "execution_count": 3,
     "metadata": {},
     "output_type": "execute_result"
    }
   ],
   "source": [
    "#preprocessing\n",
    "X_dec = X['gender']\n",
    "X_dec_user = X['user']\n",
    "\n",
    "le = preprocessing.LabelEncoder()\n",
    "X_enc = le.fit_transform(X['gender'])\n",
    "X_enc_user = le.fit_transform(X['user'])\n",
    "\n",
    "X = X.drop('gender',1)\n",
    "X = X.drop('user',1)\n",
    "\n",
    "\n",
    "X['gender'] = X_enc\n",
    "X['user'] = X_enc_user\n",
    "\n",
    "X.head(3)"
   ]
  },
  {
   "cell_type": "code",
   "execution_count": 4,
   "metadata": {},
   "outputs": [
    {
     "name": "stdout",
     "output_type": "stream",
     "text": [
      "X_train total length: 52\n",
      "X_test total length: 23\n",
      "Y_train total length: 52\n"
     ]
    }
   ],
   "source": [
    "X_train, X_test, y_train, y_test = train_test_split(X, Y, test_size=0.30, random_state=99)\n",
    "\n",
    "print(\"X_train total length:\",len(X_train))\n",
    "print(\"X_test total length:\",len(X_test))\n",
    "print(\"Y_train total length:\",len(y_train))"
   ]
  },
  {
   "cell_type": "code",
   "execution_count": 5,
   "metadata": {
    "collapsed": true
   },
   "outputs": [],
   "source": [
    "model_nb = GaussianNB()\n",
    "model_svm = svm.SVC()\n",
    "model_lr = LogisticRegression()\n",
    "model_knn_centroid = NearestCentroid()\n",
    "model_knn = KNeighborsClassifier()\n",
    "eclf = VotingClassifier(estimators=[('lr', model_lr), ('knn_centroid', model_knn_centroid), ('gnb', model_nb), ('svc', model_svm), ('knn', model_knn)],\n",
    "voting='hard', weights=[1,1,1,1,1])\n",
    "\n",
    "models = [ model_nb, model_svm, model_lr, model_knn_centroid, model_knn, eclf]\n",
    "model_names = [ \"Naive Bayes\", \"SVM\", \"Logistic Regression\", \"Nearest Neighbors using Centroid\", \"K-nearest Neighbors\", \"Ensemble\"]\n",
    "    \n",
    "best_model = None\n",
    "best_accuracy = 0\n",
    "best_preds = None"
   ]
  },
  {
   "cell_type": "code",
   "execution_count": 6,
   "metadata": {},
   "outputs": [
    {
     "name": "stdout",
     "output_type": "stream",
     "text": [
      "Performance of models\n",
      "======================\n",
      "Name: Naive Bayes\n",
      "Accuracy score:  1.0\n",
      "RMSE:  0.0\n",
      "Name: SVM\n",
      "Accuracy score:  0.95652173913\n",
      "RMSE:  0.0434782608696\n",
      "Name: Logistic Regression\n",
      "Accuracy score:  1.0\n",
      "RMSE:  0.0\n",
      "Name: Nearest Neighbors using Centroid\n",
      "Accuracy score:  0.869565217391\n",
      "RMSE:  0.130434782609\n",
      "Name: K-nearest Neighbors\n",
      "Accuracy score:  1.0\n",
      "RMSE:  0.0\n",
      "Name: Ensemble\n",
      "Accuracy score:  1.0\n",
      "RMSE:  0.0\n",
      "======================\n",
      "Best model: VotingClassifier(estimators=[('lr', LogisticRegression(C=1.0, class_weight=None, dual=False, fit_intercept=True,\n",
      "          intercept_scaling=1, max_iter=100, multi_class='ovr', n_jobs=1,\n",
      "          penalty='l2', random_state=None, solver='liblinear', tol=0.0001,\n",
      "          verbose=0, warm_start=False)), ('knn_centroid...owski',\n",
      "           metric_params=None, n_jobs=1, n_neighbors=5, p=2,\n",
      "           weights='uniform'))],\n",
      "         n_jobs=1, voting='hard', weights=[1, 1, 1, 1, 1])\n",
      "Best accuracy: 1.0\n",
      "Best predictions: [2 2 1 1 3 1 2 3 1 2 3 3 1 2 1 3 2 3 2 3 1 3 1]\n"
     ]
    }
   ],
   "source": [
    "print(\"Performance of models\")\n",
    "print(\"======================\")\n",
    "for model, name in zip(models, model_names):\n",
    "    model.fit(X_train, y_train)\n",
    "    preds = model.predict(X_test)\n",
    "    accuracy = accuracy_score(y_test, preds)\n",
    "    rmse_nb = mean_squared_error(y_test, preds)\n",
    "    print(\"Name:\", name)\n",
    "    print(\"Accuracy score: \", accuracy)\n",
    "    print(\"RMSE: \", rmse_nb) \n",
    "    if accuracy >= best_accuracy:\n",
    "        best_accuracy = accuracy\n",
    "        best_model = model\n",
    "        best_preds = preds\n",
    "        \n",
    "        \n",
    "        \n",
    "print(\"======================\")\n",
    "print(\"Best model:\",best_model)\n",
    "print(\"Best accuracy:\",best_accuracy)\n",
    "print(\"Best predictions:\",best_preds)  "
   ]
  },
  {
   "cell_type": "code",
   "execution_count": 7,
   "metadata": {},
   "outputs": [
    {
     "data": {
      "text/html": [
       "<div>\n",
       "<style>\n",
       "    .dataframe thead tr:only-child th {\n",
       "        text-align: right;\n",
       "    }\n",
       "\n",
       "    .dataframe thead th {\n",
       "        text-align: left;\n",
       "    }\n",
       "\n",
       "    .dataframe tbody tr th {\n",
       "        vertical-align: top;\n",
       "    }\n",
       "</style>\n",
       "<table border=\"1\" class=\"dataframe\">\n",
       "  <thead>\n",
       "    <tr style=\"text-align: right;\">\n",
       "      <th></th>\n",
       "      <th>id</th>\n",
       "      <th>bloodglucoselevel</th>\n",
       "      <th>bmi</th>\n",
       "      <th>sugarcomsumed</th>\n",
       "      <th>label</th>\n",
       "      <th>gender</th>\n",
       "      <th>user</th>\n",
       "    </tr>\n",
       "  </thead>\n",
       "  <tbody>\n",
       "    <tr>\n",
       "      <th>30</th>\n",
       "      <td>31</td>\n",
       "      <td>7.1</td>\n",
       "      <td>25.0</td>\n",
       "      <td>8.0</td>\n",
       "      <td>2</td>\n",
       "      <td>1</td>\n",
       "      <td>24</td>\n",
       "    </tr>\n",
       "    <tr>\n",
       "      <th>31</th>\n",
       "      <td>32</td>\n",
       "      <td>7.5</td>\n",
       "      <td>25.0</td>\n",
       "      <td>2.3</td>\n",
       "      <td>2</td>\n",
       "      <td>0</td>\n",
       "      <td>25</td>\n",
       "    </tr>\n",
       "    <tr>\n",
       "      <th>42</th>\n",
       "      <td>43</td>\n",
       "      <td>6.9</td>\n",
       "      <td>27.0</td>\n",
       "      <td>6.6</td>\n",
       "      <td>2</td>\n",
       "      <td>1</td>\n",
       "      <td>37</td>\n",
       "    </tr>\n",
       "    <tr>\n",
       "      <th>72</th>\n",
       "      <td>73</td>\n",
       "      <td>5.2</td>\n",
       "      <td>20.1</td>\n",
       "      <td>0.3</td>\n",
       "      <td>3</td>\n",
       "      <td>1</td>\n",
       "      <td>70</td>\n",
       "    </tr>\n",
       "    <tr>\n",
       "      <th>60</th>\n",
       "      <td>61</td>\n",
       "      <td>3.1</td>\n",
       "      <td>22.5</td>\n",
       "      <td>1.5</td>\n",
       "      <td>3</td>\n",
       "      <td>1</td>\n",
       "      <td>57</td>\n",
       "    </tr>\n",
       "  </tbody>\n",
       "</table>\n",
       "</div>"
      ],
      "text/plain": [
       "    id  bloodglucoselevel   bmi  sugarcomsumed  label  gender  user\n",
       "30  31                7.1  25.0            8.0      2       1    24\n",
       "31  32                7.5  25.0            2.3      2       0    25\n",
       "42  43                6.9  27.0            6.6      2       1    37\n",
       "72  73                5.2  20.1            0.3      3       1    70\n",
       "60  61                3.1  22.5            1.5      3       1    57"
      ]
     },
     "execution_count": 7,
     "metadata": {},
     "output_type": "execute_result"
    }
   ],
   "source": [
    "results = X_train\n",
    "X_test = X_test.drop('label',1)\n",
    "X_test['label'] = best_preds\n",
    "results.append(X_test)\n",
    "results.head()"
   ]
  },
  {
   "cell_type": "code",
   "execution_count": 8,
   "metadata": {},
   "outputs": [
    {
     "data": {
      "text/html": [
       "<div>\n",
       "<style>\n",
       "    .dataframe thead tr:only-child th {\n",
       "        text-align: right;\n",
       "    }\n",
       "\n",
       "    .dataframe thead th {\n",
       "        text-align: left;\n",
       "    }\n",
       "\n",
       "    .dataframe tbody tr th {\n",
       "        vertical-align: top;\n",
       "    }\n",
       "</style>\n",
       "<table border=\"1\" class=\"dataframe\">\n",
       "  <thead>\n",
       "    <tr style=\"text-align: right;\">\n",
       "      <th></th>\n",
       "      <th>id</th>\n",
       "      <th>bloodglucoselevel</th>\n",
       "      <th>bmi</th>\n",
       "      <th>sugarcomsumed</th>\n",
       "      <th>label</th>\n",
       "      <th>gender</th>\n",
       "      <th>user</th>\n",
       "    </tr>\n",
       "  </thead>\n",
       "  <tbody>\n",
       "    <tr>\n",
       "      <th>30</th>\n",
       "      <td>31</td>\n",
       "      <td>7.1</td>\n",
       "      <td>25.0</td>\n",
       "      <td>8.0</td>\n",
       "      <td>2</td>\n",
       "      <td>male</td>\n",
       "      <td>user31</td>\n",
       "    </tr>\n",
       "    <tr>\n",
       "      <th>31</th>\n",
       "      <td>32</td>\n",
       "      <td>7.5</td>\n",
       "      <td>25.0</td>\n",
       "      <td>2.3</td>\n",
       "      <td>2</td>\n",
       "      <td>female</td>\n",
       "      <td>user32</td>\n",
       "    </tr>\n",
       "    <tr>\n",
       "      <th>42</th>\n",
       "      <td>43</td>\n",
       "      <td>6.9</td>\n",
       "      <td>27.0</td>\n",
       "      <td>6.6</td>\n",
       "      <td>2</td>\n",
       "      <td>male</td>\n",
       "      <td>user43</td>\n",
       "    </tr>\n",
       "    <tr>\n",
       "      <th>72</th>\n",
       "      <td>73</td>\n",
       "      <td>5.2</td>\n",
       "      <td>20.1</td>\n",
       "      <td>0.3</td>\n",
       "      <td>3</td>\n",
       "      <td>male</td>\n",
       "      <td>user73</td>\n",
       "    </tr>\n",
       "    <tr>\n",
       "      <th>60</th>\n",
       "      <td>61</td>\n",
       "      <td>3.1</td>\n",
       "      <td>22.5</td>\n",
       "      <td>1.5</td>\n",
       "      <td>3</td>\n",
       "      <td>male</td>\n",
       "      <td>user61</td>\n",
       "    </tr>\n",
       "  </tbody>\n",
       "</table>\n",
       "</div>"
      ],
      "text/plain": [
       "    id  bloodglucoselevel   bmi  sugarcomsumed  label  gender    user\n",
       "30  31                7.1  25.0            8.0      2    male  user31\n",
       "31  32                7.5  25.0            2.3      2  female  user32\n",
       "42  43                6.9  27.0            6.6      2    male  user43\n",
       "72  73                5.2  20.1            0.3      3    male  user73\n",
       "60  61                3.1  22.5            1.5      3    male  user61"
      ]
     },
     "execution_count": 8,
     "metadata": {},
     "output_type": "execute_result"
    }
   ],
   "source": [
    "\n",
    "results = results.drop('gender',1)\n",
    "results = results.drop('user',1)\n",
    "\n",
    "results['gender'] = X_dec\n",
    "results['user'] = X_dec_user\n",
    "\n",
    "results.head()"
   ]
  },
  {
   "cell_type": "code",
   "execution_count": 9,
   "metadata": {},
   "outputs": [
    {
     "name": "stdout",
     "output_type": "stream",
     "text": [
      "[1]\n"
     ]
    }
   ],
   "source": [
    "#predict for the new user \n",
    "\n",
    "from pandas.io.json import json_normalize\n",
    "df = pd.DataFrame.from_dict(json_normalize({'id':23 , 'bloodglucodelevel':2.2 , 'bmi' :27 , \n",
    "                                            'sugarcomsumed' :2.1, 'gender':'male', 'user':'appo' , 'label': 0}), orient='columns')\n",
    "\n",
    "df_enc = le.fit_transform(df['gender'])\n",
    "df_enc_user = le.fit_transform(df['user'])\n",
    "df = df.drop('gender',1)\n",
    "df = df.drop('user',1)\n",
    "df['gender'] = df_enc\n",
    "df['user'] =df_enc_user\n",
    "\n",
    "predicted = best_model.predict(df)\n",
    "\n",
    "print(predicted)"
   ]
  },
  {
   "cell_type": "code",
   "execution_count": 10,
   "metadata": {},
   "outputs": [],
   "source": [
    "import pickle\n",
    "s = pickle.dumps(best_model)"
   ]
  },
  {
   "cell_type": "code",
   "execution_count": 11,
   "metadata": {},
   "outputs": [
    {
     "data": {
      "text/plain": [
       "['user_classifier.pkl']"
      ]
     },
     "execution_count": 11,
     "metadata": {},
     "output_type": "execute_result"
    }
   ],
   "source": [
    "from sklearn.externals import joblib\n",
    "joblib.dump(best_model, 'ZenHealthAppEngine/dataset/user_classifier.pkl')"
   ]
  },
  {
   "cell_type": "code",
   "execution_count": 12,
   "metadata": {},
   "outputs": [],
   "source": [
    "best_model_pkl = joblib.load('user_classifier.pkl') "
   ]
  },
  {
   "cell_type": "code",
   "execution_count": 13,
   "metadata": {},
   "outputs": [
    {
     "name": "stdout",
     "output_type": "stream",
     "text": [
      "[1]\n"
     ]
    }
   ],
   "source": [
    "predicted = best_model_pkl.predict(df)\n",
    "\n",
    "print(predicted)"
   ]
  },
  {
   "cell_type": "code",
   "execution_count": null,
   "metadata": {},
   "outputs": [],
   "source": []
  },
  {
   "cell_type": "code",
   "execution_count": null,
   "metadata": {
    "collapsed": true
   },
   "outputs": [],
   "source": []
  }
 ],
 "metadata": {
  "kernelspec": {
   "display_name": "Python 3",
   "language": "python",
   "name": "python3"
  },
  "language_info": {
   "codemirror_mode": {
    "name": "ipython",
    "version": 3
   },
   "file_extension": ".py",
   "mimetype": "text/x-python",
   "name": "python",
   "nbconvert_exporter": "python",
   "pygments_lexer": "ipython3",
   "version": "3.6.1"
  }
 },
 "nbformat": 4,
 "nbformat_minor": 2
}
