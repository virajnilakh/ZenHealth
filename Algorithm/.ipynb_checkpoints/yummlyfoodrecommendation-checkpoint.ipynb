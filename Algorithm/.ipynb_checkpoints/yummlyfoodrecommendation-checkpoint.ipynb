{
 "cells": [
  {
   "cell_type": "code",
   "execution_count": 2,
   "metadata": {
    "collapsed": true
   },
   "outputs": [],
   "source": [
    "#Import Library\n",
    "from time import time\n",
    "import matplotlib.pyplot as plt\n",
    "\n",
    "from sklearn.naive_bayes import GaussianNB\n",
    "from sklearn import svm\n",
    "from sklearn.linear_model import LogisticRegression\n",
    "from sklearn.neighbors.nearest_centroid import NearestCentroid\n",
    "from sklearn.neighbors import KNeighborsClassifier\n",
    "from sklearn.ensemble import RandomForestClassifier, VotingClassifier\n",
    "\n",
    "import pandas as pd\n",
    "import numpy as np\n",
    "import scipy as sp\n",
    "\n",
    "from sklearn.metrics import accuracy_score\n",
    "from sklearn.metrics import mean_squared_error\n",
    "from sklearn.model_selection import train_test_split\n",
    "from sklearn import preprocessing\n",
    "\n",
    "import requests\n",
    "import json"
   ]
  },
  {
   "cell_type": "code",
   "execution_count": 11,
   "metadata": {},
   "outputs": [
    {
     "name": "stdout",
     "output_type": "stream",
     "text": [
      "The response contains 5 properties\n",
      "\n",
      "\n",
      "10\n",
      "Dark Chocolate Velvet Brownies\n",
      "Easiest Oreo Cheesecake\n",
      "Homemade BBQ Sauce\n",
      "Super Easy Lemon Bars\n",
      "Two Two Easy Peach Cobbler\n",
      "Cranberry Orange Sauce\n",
      "The Best Lemon Bars\n",
      "Ultimate Chocolate Chip Cookies\n",
      "Outrageously Amazing One-Bowl 5-Ingredient Brownies\n",
      "Bailey’s Brownies\n"
     ]
    }
   ],
   "source": [
    "url = 'http://api.yummly.com/v1/api/recipes?_app_id=32d54232&_app_key=307be4c85ec5e94baef434b1a380fabc&nutrition.SUGAR.min=79&nutrition.SUGAR.max=140'\n",
    "\n",
    "food_response = requests.get(url)\n",
    "\n",
    "if(food_response.ok):\n",
    "    jData = json.loads(food_response.content)\n",
    "    print(\"The response contains {0} properties\".format(len(jData)))\n",
    "    print(\"\\n\")\n",
    "    print(len(jData['matches']))\n",
    "    results = jData['matches']\n",
    "    for i in results:\n",
    "        print(i['recipeName'])\n",
    "else:\n",
    "  # If response code is not ok (200), print the resulting http error code with description\n",
    "    myResponse.raise_for_status()\n",
    "        "
   ]
  },
  {
   "cell_type": "code",
   "execution_count": 12,
   "metadata": {},
   "outputs": [
    {
     "name": "stdout",
     "output_type": "stream",
     "text": [
      "The response contains 5 properties\n",
      "\n",
      "\n",
      "10\n",
      "The Easiest Caramel Sauce\n",
      "Cream Cheese Pound Cake\n",
      "Cream Cheese Pound Cake\n",
      "Extraordinary Chocolate Chip Cookies\n",
      "Coffee Vanilla Beer Pound Cake\n",
      "Bubblegum Cupcakes\n",
      "Vanilla Bourbon Caramel Sauce\n",
      "Cannabis Caramels\n",
      "Yummiest Fruit Salad EVER!!!\n",
      "PUNCH BOWL CAKE\n"
     ]
    }
   ],
   "source": [
    "url = 'http://api.yummly.com/v1/api/recipes?_app_id=32d54232&_app_key=307be4c85ec5e94baef434b1a380fabc&nutrition.SUGAR.min=141&nutrition.SUGAR.max=240'\n",
    "\n",
    "food_response = requests.get(url)\n",
    "\n",
    "if(food_response.ok):\n",
    "    jData = json.loads(food_response.content)\n",
    "    print(\"The response contains {0} properties\".format(len(jData)))\n",
    "    print(\"\\n\")\n",
    "    print(len(jData['matches']))\n",
    "    results = jData['matches']\n",
    "    for i in results:\n",
    "        print(i['recipeName'])\n",
    "else:\n",
    "  # If response code is not ok (200), print the resulting http error code with description\n",
    "    myResponse.raise_for_status()"
   ]
  },
  {
   "cell_type": "code",
   "execution_count": 13,
   "metadata": {},
   "outputs": [
    {
     "name": "stdout",
     "output_type": "stream",
     "text": [
      "The response contains 5 properties\n",
      "\n",
      "\n",
      "10\n",
      "Monterrey Chicken Bake\n",
      "Easy Chicken Enchilada Casserole\n",
      "Harissa Eggs in Purgatory\n",
      "Peanut Butter Flourless Chocolate Cake\n",
      "Breakfast Stuffed Peppers\n",
      "Molten Chocolate Cakes\n",
      "Caramelised Banana and Hazelnut Pancakes\n",
      "Rosemary and Garlic Roasted Pork Loin\n",
      "Cheesy Skillet Bean & Veggie Taco Meal\n",
      "Ginger Miso Turkey Burgers with Honey-Soy Glaze\n"
     ]
    }
   ],
   "source": [
    "url = 'http://api.yummly.com/v1/api/recipes?_app_id=32d54232&_app_key=307be4c85ec5e94baef434b1a380fabc&nutrition.SUGAR.min=0&nutrition.SUGAR.max=78'\n",
    "\n",
    "food_response = requests.get(url)\n",
    "\n",
    "if(food_response.ok):\n",
    "    jData = json.loads(food_response.content)\n",
    "    print(\"The response contains {0} properties\".format(len(jData)))\n",
    "    print(\"\\n\")\n",
    "    print(len(jData['matches']))\n",
    "    results = jData['matches']\n",
    "    for i in results:\n",
    "        print(i['recipeName'])\n",
    "else:\n",
    "  # If response code is not ok (200), print the resulting http error code with description\n",
    "    myResponse.raise_for_status()"
   ]
  },
  {
   "cell_type": "code",
   "execution_count": null,
   "metadata": {
    "collapsed": true
   },
   "outputs": [],
   "source": []
  }
 ],
 "metadata": {
  "kernelspec": {
   "display_name": "Python 3",
   "language": "python",
   "name": "python3"
  },
  "language_info": {
   "codemirror_mode": {
    "name": "ipython",
    "version": 3
   },
   "file_extension": ".py",
   "mimetype": "text/x-python",
   "name": "python",
   "nbconvert_exporter": "python",
   "pygments_lexer": "ipython3",
   "version": "3.6.1"
  }
 },
 "nbformat": 4,
 "nbformat_minor": 2
}
